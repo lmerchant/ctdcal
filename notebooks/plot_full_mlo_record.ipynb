{
  "nbformat": 4,
  "nbformat_minor": 0,
  "metadata": {
    "colab": {
      "name": "plot_full_mlo_record.ipynb",
      "provenance": [],
      "authorship_tag": "ABX9TyNZuz4JrTbU6RXJRPlGKDUH",
      "include_colab_link": true
    },
    "kernelspec": {
      "name": "python3",
      "display_name": "Python 3"
    },
    "language_info": {
      "name": "python"
    }
  },
  "cells": [
    {
      "cell_type": "markdown",
      "metadata": {
        "id": "view-in-github",
        "colab_type": "text"
      },
      "source": [
        "<a href=\"https://colab.research.google.com/github/lmerchant/ctdcal/blob/master/notebooks/plot_full_mlo_record.ipynb\" target=\"_parent\"><img src=\"https://colab.research.google.com/assets/colab-badge.svg\" alt=\"Open In Colab\"/></a>"
      ]
    },
    {
      "cell_type": "code",
      "metadata": {
        "id": "cWhxrxZGr90M"
      },
      "source": [
        "import os\n",
        "os.chdir('/scrippsco2_utils')\n",
        "CODE_DIR = 'restyle-encoder'\n"
      ],
      "execution_count": null,
      "outputs": []
    },
    {
      "cell_type": "code",
      "metadata": {
        "colab": {
          "base_uri": "https://localhost:8080/"
        },
        "id": "NBP5b8F4sa2g",
        "outputId": "8d4f6c2f-6834-4b4b-a3b7-0785fed1e8eb"
      },
      "source": [
        "!git clone git@github.com:lmerchant/scrippsco2_notebooks.git"
      ],
      "execution_count": 3,
      "outputs": [
        {
          "output_type": "stream",
          "name": "stdout",
          "text": [
            "Cloning into 'scrippsco2_notebooks'...\n",
            "Host key verification failed.\r\n",
            "fatal: Could not read from remote repository.\n",
            "\n",
            "Please make sure you have the correct access rights\n",
            "and the repository exists.\n"
          ]
        }
      ]
    },
    {
      "cell_type": "code",
      "metadata": {
        "id": "GrPbG-fKu0YT"
      },
      "source": [
        ""
      ],
      "execution_count": null,
      "outputs": []
    }
  ]
}